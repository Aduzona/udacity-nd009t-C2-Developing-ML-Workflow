{
 "cells": [
  {
   "cell_type": "markdown",
   "metadata": {},
   "source": [
    "# UDACITY: Processing Job Demo"
   ]
  },
  {
   "cell_type": "code",
   "execution_count": 2,
   "metadata": {
    "jupyter": {
     "source_hidden": true
    }
   },
   "outputs": [
    {
     "name": "stdout",
     "output_type": "stream",
     "text": [
      "Writing xgboost_process_script.py\n"
     ]
    }
   ],
   "source": [
    "%%writefile xgboost_process_script.py\n",
    "\n",
    "# Execute this cell first to write this script to your local directory. \n",
    "\n",
    "import pandas\n",
    "\n",
    "# This method filters out the column at index 1, which is the crime data. \n",
    "\n",
    "def filter_crime_data(input_data_path):\n",
    "    with open(input_data_path, 'r') as f:\n",
    "        df = pandas.read_csv(f)\n",
    "    df.drop(df.columns[[1]], axis=1)\n",
    "    return df\n",
    "\n",
    "# The main method takes in data at '/opt/ml/processing/input/data/train.csv' \n",
    "# and outputs it as a csv to '/opt/ml/processing/output/data_processed'\n",
    "\n",
    "if __name__ == \"__main__\":\n",
    "    filtered_data = filter_crime_data('/opt/ml/processing/input/data/train.csv')\n",
    "    filtered_data.to_csv('/opt/ml/processing/output/data_processed')\n",
    "\n"
   ]
  },
  {
   "cell_type": "code",
   "execution_count": 3,
   "metadata": {},
   "outputs": [
    {
     "name": "stdout",
     "output_type": "stream",
     "text": [
      "\n",
      "Job Name:  sagemaker-scikit-learn-2022-07-13-18-56-16-782\n",
      "Inputs:  [{'InputName': 'input-1', 'AppManaged': False, 'S3Input': {'S3Uri': 's3://sagemaker-studio-avagajmapoo/boston-xgboost-HL/train.csv', 'LocalPath': '/opt/ml/processing/input/data/', 'S3DataType': 'S3Prefix', 'S3InputMode': 'File', 'S3DataDistributionType': 'FullyReplicated', 'S3CompressionType': 'None'}}, {'InputName': 'code', 'AppManaged': False, 'S3Input': {'S3Uri': 's3://sagemaker-us-east-1-389474628611/sagemaker-scikit-learn-2022-07-13-18-56-16-782/input/code/xgboost_process_script.py', 'LocalPath': '/opt/ml/processing/input/code', 'S3DataType': 'S3Prefix', 'S3InputMode': 'File', 'S3DataDistributionType': 'FullyReplicated', 'S3CompressionType': 'None'}}]\n",
      "Outputs:  [{'OutputName': 'output-1', 'AppManaged': False, 'S3Output': {'S3Uri': 's3://sagemaker-us-east-1-389474628611/sagemaker-scikit-learn-2022-07-13-18-56-16-782/output/output-1', 'LocalPath': '/opt/ml/processing/output', 'S3UploadMode': 'EndOfJob'}}]\n",
      "..............................\n",
      ".."
     ]
    }
   ],
   "source": [
    "import boto3\n",
    "\n",
    "from sagemaker import get_execution_role\n",
    "from sagemaker.sklearn.processing import SKLearnProcessor\n",
    "from sagemaker.processing import ProcessingInput, ProcessingOutput\n",
    "\n",
    "role = get_execution_role()\n",
    "\n",
    "\n",
    "# This is like image uri\n",
    "sklearn_processor = SKLearnProcessor(framework_version='0.20.0',\n",
    "                                     role=role,\n",
    "                                     instance_type='ml.m5.large',\n",
    "                                     instance_count=1)\n",
    "\n",
    "\n",
    "# You will need to replace the 'source' code with the location of the dataset you want to process. \n",
    "# 'destination' The location path to the Amazon s3 bucket where you want Amazon Sagemaker to download the inputs to run the processing job\n",
    "sklearn_processor.run(code='xgboost_process_script.py',\n",
    "                        inputs=[ProcessingInput(\n",
    "                        source='s3://sagemaker-studio-avagajmapoo/boston-xgboost-HL/train.csv',\n",
    "                        destination='/opt/ml/processing/input/data/')],\n",
    "                      outputs=[ProcessingOutput(source='/opt/ml/processing/output')]\n",
    "                     )\n"
   ]
  }
 ],
 "metadata": {
  "kernelspec": {
   "display_name": "Python 3 (Data Science)",
   "language": "python",
   "name": "python3__SAGEMAKER_INTERNAL__arn:aws:sagemaker:us-east-1:081325390199:image/datascience-1.0"
  },
  "language_info": {
   "codemirror_mode": {
    "name": "ipython",
    "version": 3
   },
   "file_extension": ".py",
   "mimetype": "text/x-python",
   "name": "python",
   "nbconvert_exporter": "python",
   "pygments_lexer": "ipython3",
   "version": "3.7.10"
  }
 },
 "nbformat": 4,
 "nbformat_minor": 5
}
