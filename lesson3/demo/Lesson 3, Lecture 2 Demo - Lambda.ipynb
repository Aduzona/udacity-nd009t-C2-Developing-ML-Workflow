{
 "cells": [
  {
   "cell_type": "markdown",
   "id": "689781d4",
   "metadata": {},
   "source": [
    "# UDACITY Demo - Lambda"
   ]
  },
  {
   "cell_type": "code",
   "execution_count": 2,
   "id": "2c4ffece",
   "metadata": {},
   "outputs": [
    {
     "name": "stdout",
     "output_type": "stream",
     "text": [
      "Writing lambda_function.py\n"
     ]
    }
   ],
   "source": [
    "%%writefile lambda_function.py\n",
    "\n",
    "# This cell will write the function to your local machine. Note the name of the file and the name of the function. \n",
    "# Compare this to the 'Handler' parameter. \n",
    "\n",
    "import json\n",
    "\n",
    "def lambda_handler(event, context):\n",
    "    return {\n",
    "        'statusCode': 200,\n",
    "        'body': json.dumps('Hello from Lambda!')\n",
    "    }\n"
   ]
  },
  {
   "cell_type": "code",
   "execution_count": 6,
   "id": "72902858",
   "metadata": {},
   "outputs": [],
   "source": [
    "import boto3\n",
    "from sagemaker import get_execution_role\n",
    "from zipfile import ZipFile\n",
    "\n",
    "# Your role will need full access to Lambda. The easiest way to add this is through the IAM console. \n",
    "\n",
    "role = get_execution_role()\n",
    "\n",
    "client = boto3.client('lambda')\n",
    "\n",
    "with ZipFile('code.zip', 'w') as f:\n",
    "    f.write('lambda_function.py')\n",
    "    \n",
    "# If submitting as a ZipFile, you need to insert raw data. \n",
    "    \n",
    "with open('code.zip', 'rb') as f:\n",
    "    b_code = f.read()\n",
    "\n",
    "    \n",
    "# You will need to submit an 'execution role' to Lambda. The easiest way to add this is through the IAM console. \n",
    "# You'll need the full ARN (not just the name. )\n",
    "# Lambda function names also need to be unique within your AWS account. \n",
    "\n",
    "response = client.create_function(\n",
    "    FunctionName='botoLambdaFunction1',\n",
    "    Runtime='python3.9',\n",
    "    Handler='lambda_function.lambda_handler',\n",
    "    Code={\n",
    "        'ZipFile': b_code,\n",
    "    },\n",
    "    Description='string',\n",
    "    Timeout=30,\n",
    "    MemorySize=1024,\n",
    "    Publish=True,\n",
    "    PackageType='Zip',\n",
    "    Role= 'arn:aws:iam::298735464366:role/service-role/my-first-function-abcdef-role-zn4w17tv' #'arn:aws:iam::565094796913:role/lambda_full_access'#'arn:aws:iam::298735464366:role/AWSLambda_FullAccess'\n",
    ")\n"
   ]
  },
  {
   "cell_type": "markdown",
   "id": "4cb6a80e-a46f-4f76-8d0a-73caa149ecd0",
   "metadata": {},
   "source": [
    "For the Role: Create a Lambda function first through the console and get the IAM role of this function"
   ]
  },
  {
   "cell_type": "code",
   "execution_count": 7,
   "id": "244a32c5-ac34-4ab0-a122-6581681addf2",
   "metadata": {},
   "outputs": [
    {
     "name": "stdout",
     "output_type": "stream",
     "text": [
      "{'ResponseMetadata': {'RequestId': 'fddaa1c5-df95-40fc-b245-631dfd4cb700', 'HTTPStatusCode': 201, 'HTTPHeaders': {'date': 'Sat, 17 Sep 2022 02:08:34 GMT', 'content-type': 'application/json', 'content-length': '1032', 'connection': 'keep-alive', 'x-amzn-requestid': 'fddaa1c5-df95-40fc-b245-631dfd4cb700'}, 'RetryAttempts': 0}, 'FunctionName': 'botoLambdaFunction1', 'FunctionArn': 'arn:aws:lambda:us-east-1:298735464366:function:botoLambdaFunction1', 'Runtime': 'python3.9', 'Role': 'arn:aws:iam::298735464366:role/service-role/my-first-function-abcdef-role-zn4w17tv', 'Handler': 'lambda_function.lambda_handler', 'CodeSize': 440, 'Description': 'string', 'Timeout': 30, 'MemorySize': 1024, 'LastModified': '2022-09-17T02:08:34.602+0000', 'CodeSha256': 'PkGtjMgBD/uoAIvmjDLeN35vsOHPi44pJhXkNRmmjsQ=', 'Version': '1', 'TracingConfig': {'Mode': 'PassThrough'}, 'RevisionId': '10a34089-1053-4e39-8562-b4b4484e6e05', 'State': 'Pending', 'StateReason': 'The function is being created.', 'StateReasonCode': 'Creating', 'PackageType': 'Zip', 'Architectures': ['x86_64'], 'EphemeralStorage': {'Size': 512}}\n"
     ]
    }
   ],
   "source": [
    "print(response)#success"
   ]
  }
 ],
 "metadata": {
  "instance_type": "ml.t3.medium",
  "kernelspec": {
   "display_name": "Python 3 (Data Science)",
   "language": "python",
   "name": "python3__SAGEMAKER_INTERNAL__arn:aws:sagemaker:us-east-1:081325390199:image/datascience-1.0"
  },
  "language_info": {
   "codemirror_mode": {
    "name": "ipython",
    "version": 3
   },
   "file_extension": ".py",
   "mimetype": "text/x-python",
   "name": "python",
   "nbconvert_exporter": "python",
   "pygments_lexer": "ipython3",
   "version": "3.7.10"
  }
 },
 "nbformat": 4,
 "nbformat_minor": 5
}
