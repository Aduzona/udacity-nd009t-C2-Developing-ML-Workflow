{
 "cells": [
  {
   "cell_type": "markdown",
   "id": "ceb62ded",
   "metadata": {},
   "source": [
    "# UDACITY Demo - Step Functions"
   ]
  },
  {
   "cell_type": "code",
   "execution_count": 2,
   "id": "4238a462",
   "metadata": {},
   "outputs": [],
   "source": [
    "import boto3\n",
    "from sagemaker import get_execution_role\n",
    "\n",
    "client = boto3.client('stepfunctions')\n",
    "\n",
    "# Definitions are unweildly and also not valid python objects. Consider also using the Step interface\n",
    "# for the services you wish to invoke, or just constructing a Step Function through the UI \n",
    "# and pasting the definition that is automatically generated. \n",
    "\n",
    "definition = \"\"\"{\n",
    "  \"Comment\": \"A description of my state machine\",\n",
    "  \"StartAt\": \"Lambda Invoke(Always True)\",\n",
    "  \"States\": {\n",
    "    \"Lambda Invoke(Always True)\": {\n",
    "      \"Type\": \"Task\",\n",
    "      \"Resource\": \"arn:aws:states:::lambda:invoke\",\n",
    "      \"OutputPath\": \"$.Payload\",\n",
    "      \"Parameters\": {\n",
    "        \"Payload.$\": \"$\",\n",
    "        \"FunctionName\": \"arn:aws:lambda:us-east-1:298735464366:function:example123:$LATEST\"\n",
    "      },\n",
    "      \"Retry\": [\n",
    "        {\n",
    "          \"ErrorEquals\": [\n",
    "            \"Lambda.ServiceException\",\n",
    "            \"Lambda.AWSLambdaException\",\n",
    "            \"Lambda.SdkClientException\"\n",
    "          ],\n",
    "          \"IntervalSeconds\": 2,\n",
    "          \"MaxAttempts\": 6,\n",
    "          \"BackoffRate\": 2\n",
    "        }\n",
    "      ],\n",
    "      \"Next\": \"Lambda Invoke (Always False)\"\n",
    "    },\n",
    "    \"Lambda Invoke (Always False)\": {\n",
    "      \"Type\": \"Task\",\n",
    "      \"Resource\": \"arn:aws:states:::lambda:invoke\",\n",
    "      \"OutputPath\": \"$.Payload\",\n",
    "      \"Parameters\": {\n",
    "        \"Payload.$\": \"$\",\n",
    "        \"FunctionName\": \"arn:aws:lambda:us-east-1:298735464366:function:function-demo23:$LATEST\"\n",
    "      },\n",
    "      \"Retry\": [\n",
    "        {\n",
    "          \"ErrorEquals\": [\n",
    "            \"Lambda.ServiceException\",\n",
    "            \"Lambda.AWSLambdaException\",\n",
    "            \"Lambda.SdkClientException\"\n",
    "          ],\n",
    "          \"IntervalSeconds\": 2,\n",
    "          \"MaxAttempts\": 6,\n",
    "          \"BackoffRate\": 2\n",
    "        }\n",
    "      ],\n",
    "      \"End\": true\n",
    "    }\n",
    "  }\n",
    "}\n",
    "\"\"\""
   ]
  },
  {
   "cell_type": "code",
   "execution_count": null,
   "id": "87291527-51b0-4365-a846-dfbe5ac11b62",
   "metadata": {},
   "outputs": [],
   "source": []
  },
  {
   "cell_type": "code",
   "execution_count": 3,
   "id": "825bb38c",
   "metadata": {},
   "outputs": [
    {
     "name": "stdout",
     "output_type": "stream",
     "text": [
      "{'stateMachineArn': 'arn:aws:states:us-east-1:298735464366:stateMachine:boto3StateMachine3', 'creationDate': datetime.datetime(2022, 9, 19, 16, 14, 15, 681000, tzinfo=tzlocal()), 'ResponseMetadata': {'RequestId': '182f1f67-0b7b-4fda-a796-38ca965d9e4d', 'HTTPStatusCode': 200, 'HTTPHeaders': {'x-amzn-requestid': '182f1f67-0b7b-4fda-a796-38ca965d9e4d', 'date': 'Mon, 19 Sep 2022 16:14:15 GMT', 'content-type': 'application/x-amz-json-1.0', 'content-length': '123'}, 'RetryAttempts': 0}}\n"
     ]
    }
   ],
   "source": [
    "# Your SageMaker execution role needs to have both StepFunctions permission and IAM permission. This\n",
    "# is seperate from the role passed in through 'roleArn' (You need IAM permissions specifically because\n",
    "# you are handling other roles.) The roleArn that's passed into the state machine needs to have permissions\n",
    "# to the services it's invoking. In this case, these are Lambda permissions. \n",
    "\n",
    "response = client.create_state_machine(\n",
    "    name='boto3StateMachine3', # Names need to be unique. \n",
    "    definition=definition,\n",
    "    roleArn='arn:aws:iam::298735464366:role/service-role/StepFunctions-MyStateMachine-Demo3-role-56c8ff47',\n",
    "    type='STANDARD',\n",
    "    loggingConfiguration={\n",
    "        'level': 'OFF'\n",
    "    }\n",
    ")\n",
    "print(response)"
   ]
  },
  {
   "cell_type": "code",
   "execution_count": 4,
   "id": "dbb35686-3d58-4dc7-b66e-c4b4ca039fab",
   "metadata": {},
   "outputs": [
    {
     "name": "stdout",
     "output_type": "stream",
     "text": [
      "example9576\n"
     ]
    }
   ],
   "source": [
    "import random\n",
    "\n",
    "workflow_name=\"example\"+str(random.randint(0, 10000))\n",
    "print(workflow_name)"
   ]
  },
  {
   "cell_type": "code",
   "execution_count": 5,
   "id": "e9d45764",
   "metadata": {},
   "outputs": [],
   "source": [
    "response = client.start_execution(\n",
    "    stateMachineArn='arn:aws:states:us-east-1:298735464366:stateMachine:MyStateMachine-Demo3', # You can find this through the Console or through the 'response' object. \n",
    "    name=workflow_name, # Execution names need to be unique within state machines. \n",
    "    input='{}' # Input needs to be at least empty brackets. \n",
    ")"
   ]
  },
  {
   "cell_type": "code",
   "execution_count": 6,
   "id": "b069b102-6ae7-47e5-bc06-032b139a069e",
   "metadata": {},
   "outputs": [
    {
     "name": "stdout",
     "output_type": "stream",
     "text": [
      "{'executionArn': 'arn:aws:states:us-east-1:298735464366:execution:MyStateMachine-Demo3:example9576', 'startDate': datetime.datetime(2022, 9, 19, 16, 14, 28, 827000, tzinfo=tzlocal()), 'ResponseMetadata': {'RequestId': '6bb44725-1731-414c-b82a-98931fcc3b64', 'HTTPStatusCode': 200, 'HTTPHeaders': {'x-amzn-requestid': '6bb44725-1731-414c-b82a-98931fcc3b64', 'date': 'Mon, 19 Sep 2022 16:14:28 GMT', 'content-type': 'application/x-amz-json-1.0', 'content-length': '128'}, 'RetryAttempts': 0}}\n"
     ]
    }
   ],
   "source": [
    "print(response)"
   ]
  }
 ],
 "metadata": {
  "instance_type": "ml.t3.medium",
  "kernelspec": {
   "display_name": "Python 3 (Data Science)",
   "language": "python",
   "name": "python3__SAGEMAKER_INTERNAL__arn:aws:sagemaker:us-east-1:081325390199:image/datascience-1.0"
  },
  "language_info": {
   "codemirror_mode": {
    "name": "ipython",
    "version": 3
   },
   "file_extension": ".py",
   "mimetype": "text/x-python",
   "name": "python",
   "nbconvert_exporter": "python",
   "pygments_lexer": "ipython3",
   "version": "3.7.10"
  }
 },
 "nbformat": 4,
 "nbformat_minor": 5
}
