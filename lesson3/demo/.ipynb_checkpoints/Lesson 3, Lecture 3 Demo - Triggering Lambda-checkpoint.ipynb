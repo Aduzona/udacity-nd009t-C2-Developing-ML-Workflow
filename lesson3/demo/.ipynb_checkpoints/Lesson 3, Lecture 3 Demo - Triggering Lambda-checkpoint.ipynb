{
 "cells": [
  {
   "cell_type": "markdown",
   "id": "02d4826a",
   "metadata": {},
   "source": [
    "# UDACITY Demo - Triggering Lambda"
   ]
  },
  {
   "cell_type": "code",
   "execution_count": 3,
   "id": "ceeeb443-bb71-4e02-b272-fe65288a93b2",
   "metadata": {},
   "outputs": [
    {
     "name": "stdout",
     "output_type": "stream",
     "text": [
      "Overwriting lambda_function.py\n"
     ]
    }
   ],
   "source": [
    "%%writefile lambda_function.py\n",
    "\n",
    "# This cell will write the function to your local machine. Note the name of the file and the name of the function. \n",
    "# Compare this to the 'Handler' parameter. \n",
    "\n",
    "import json\n",
    "\n",
    "def lambda_handler(event, context):\n",
    "    return {\n",
    "        'statusCode': 200,\n",
    "        'body': json.dumps('Hello from Lambda!')\n",
    "    }"
   ]
  },
  {
   "cell_type": "code",
   "execution_count": 5,
   "id": "f5b01dc2-faac-46e4-866b-870fb37f06aa",
   "metadata": {},
   "outputs": [],
   "source": [
    "import boto3\n",
    "from sagemaker import get_execution_role ## The SageMaker role executing your notebook needs to have Lambda permissions. \n",
    "import json\n",
    "from zipfile import ZipFile\n",
    "\n",
    "client = boto3.client('lambda')\n",
    "\n",
    "with ZipFile('code.zip', 'w') as f:\n",
    "    f.write('lambda_function.py')\n",
    "    \n",
    "# If submitting as a ZipFile, you need to insert raw data. \n",
    "    \n",
    "with open('code.zip', 'rb') as f:\n",
    "    b_code = f.read()\n",
    "\n",
    "    \n",
    "# You will need to submit an 'execution role' to Lambda. The easiest way to add this is through the IAM console. \n",
    "# You'll need the full ARN (not just the name. )\n",
    "# Lambda function names also need to be unique within your AWS account. \n",
    "\n",
    "response = client.create_function(\n",
    "    FunctionName='example123',\n",
    "    Runtime='python3.9',\n",
    "    Handler='lambda_function.lambda_handler',\n",
    "    Code={\n",
    "        'ZipFile': b_code,\n",
    "    },\n",
    "    Description='string',\n",
    "    Timeout=30,\n",
    "    MemorySize=1024,\n",
    "    Publish=True,\n",
    "    PackageType='Zip',\n",
    "    Role= 'arn:aws:iam::298735464366:role/service-role/my-first-function-abcdef-role-zn4w17tv' #'arn:aws:iam::565094796913:role/lambda_full_access'#'arn:aws:iam::298735464366:role/AWSLambda_FullAccess'\n",
    ")"
   ]
  },
  {
   "cell_type": "code",
   "execution_count": 6,
   "id": "f574143a-fc88-4119-a615-248a532d7e75",
   "metadata": {},
   "outputs": [
    {
     "name": "stdout",
     "output_type": "stream",
     "text": [
      "{'ResponseMetadata': {'RequestId': 'e8153ed8-990e-4e97-ae8d-3b50e2cb4c0e', 'HTTPStatusCode': 201, 'HTTPHeaders': {'date': 'Mon, 19 Sep 2022 08:09:38 GMT', 'content-type': 'application/json', 'content-length': '1014', 'connection': 'keep-alive', 'x-amzn-requestid': 'e8153ed8-990e-4e97-ae8d-3b50e2cb4c0e'}, 'RetryAttempts': 0}, 'FunctionName': 'example123', 'FunctionArn': 'arn:aws:lambda:us-east-1:298735464366:function:example123', 'Runtime': 'python3.9', 'Role': 'arn:aws:iam::298735464366:role/service-role/my-first-function-abcdef-role-zn4w17tv', 'Handler': 'lambda_function.lambda_handler', 'CodeSize': 440, 'Description': 'string', 'Timeout': 30, 'MemorySize': 1024, 'LastModified': '2022-09-19T08:09:37.786+0000', 'CodeSha256': '5MMIDIv3hCfl6qCWa8AHhHZcRxZnOe+MKMY4cZORAuY=', 'Version': '1', 'TracingConfig': {'Mode': 'PassThrough'}, 'RevisionId': '35172953-bd30-442e-aa8d-905be9065cf2', 'State': 'Pending', 'StateReason': 'The function is being created.', 'StateReasonCode': 'Creating', 'PackageType': 'Zip', 'Architectures': ['x86_64'], 'EphemeralStorage': {'Size': 512}}\n"
     ]
    }
   ],
   "source": [
    "print(response)"
   ]
  },
  {
   "cell_type": "code",
   "execution_count": 7,
   "id": "a88bf9cc",
   "metadata": {},
   "outputs": [],
   "source": [
    "\n",
    "\n",
    "payload = {'key': 'value'}\n",
    "\n",
    "# json.dumps turns a JSON-object-like python object into a string, and .encode('utf-8') encodes the \n",
    "# the string so that it can be properly passed to the client. \n",
    "\n",
    "payload_bytes = json.dumps(payload).encode('utf-8')\n",
    "\n",
    "response = client.invoke(\n",
    "    FunctionName='example123',\n",
    "    InvocationType='Event',\n",
    "    Payload=payload_bytes\n",
    ")"
   ]
  },
  {
   "cell_type": "code",
   "execution_count": 8,
   "id": "461a43cd-a66f-4146-a0be-d733185d50b7",
   "metadata": {},
   "outputs": [
    {
     "name": "stdout",
     "output_type": "stream",
     "text": [
      "{'ResponseMetadata': {'RequestId': 'f21c4c0b-acbd-4219-a5fe-89d8ce28a267', 'HTTPStatusCode': 202, 'HTTPHeaders': {'date': 'Mon, 19 Sep 2022 08:18:19 GMT', 'content-length': '0', 'connection': 'keep-alive', 'x-amzn-requestid': 'f21c4c0b-acbd-4219-a5fe-89d8ce28a267', 'x-amzn-remapped-content-length': '0', 'x-amzn-trace-id': 'root=1-632825cb-3d7a2fcf66e9ef4950d19612;sampled=0'}, 'RetryAttempts': 1}, 'StatusCode': 202, 'Payload': <botocore.response.StreamingBody object at 0x7fd3bd4f4a90>}\n"
     ]
    }
   ],
   "source": [
    "print(response)# Function was invoked successfully"
   ]
  }
 ],
 "metadata": {
  "instance_type": "ml.t3.medium",
  "kernelspec": {
   "display_name": "Python 3 (Data Science)",
   "language": "python",
   "name": "python3__SAGEMAKER_INTERNAL__arn:aws:sagemaker:us-east-1:081325390199:image/datascience-1.0"
  },
  "language_info": {
   "codemirror_mode": {
    "name": "ipython",
    "version": 3
   },
   "file_extension": ".py",
   "mimetype": "text/x-python",
   "name": "python",
   "nbconvert_exporter": "python",
   "pygments_lexer": "ipython3",
   "version": "3.7.10"
  }
 },
 "nbformat": 4,
 "nbformat_minor": 5
}
