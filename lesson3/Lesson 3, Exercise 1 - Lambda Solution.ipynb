{
 "cells": [
  {
   "cell_type": "markdown",
   "id": "9213d171",
   "metadata": {},
   "source": [
    "## Exercise Solution: Example Lambda Test Event"
   ]
  },
  {
   "cell_type": "code",
   "execution_count": 7,
   "id": "13d4cafb-e00a-4250-9d2d-9a549bfa6b8c",
   "metadata": {},
   "outputs": [],
   "source": [
    "# Zip a file\n",
    "import zipfile\n",
    "\n",
    "zipObj = zipfile.ZipFile('HelloBlazePreprocessLambda.py.zip', 'w')\n",
    "zipObj.write('HelloBlazePreprocessLambda.py')\n",
    "\n",
    "zipObj.close()"
   ]
  },
  {
   "cell_type": "code",
   "execution_count": 8,
   "id": "d1a83148-27a0-4270-8b7a-bed501a7d6f7",
   "metadata": {},
   "outputs": [
    {
     "name": "stdout",
     "output_type": "stream",
     "text": [
      "Zipped File uploaded\n"
     ]
    }
   ],
   "source": [
    "#Upload file to S3\n",
    "\n",
    "import json\n",
    "import os\n",
    "import boto3\n",
    "from botocore.exceptions import ClientError\n",
    "\n",
    "def upload_data(file_name):\n",
    "    object_name = os.path.join(PREFIX, os.path.basename(file_name))\n",
    "    s3_client = boto3.client('s3')\n",
    "    try:\n",
    "        response = s3_client.upload_file(file_name, BUCKET_NAME, object_name)\n",
    "    except ClientError as e:\n",
    "        logging.error(e)\n",
    "        return False\n",
    "    \n",
    "BUCKET_NAME='sagemaker-studio-q817ty08abe'\n",
    "PREFIX='l3e1'\n",
    "file_name='HelloBlazePreprocessLambda.py.zip'\n",
    "upload_data(file_name)\n",
    "\n",
    "print('Zipped File uploaded')"
   ]
  },
  {
   "cell_type": "code",
   "execution_count": 1,
   "id": "9efff689",
   "metadata": {},
   "outputs": [
    {
     "data": {
      "text/plain": [
       "{'s3-dataset-uri': 'udacity-sagemaker-solutiondata2021/l3e1/reviews_Musical_Instruments_5.json.zip'}"
      ]
     },
     "execution_count": 1,
     "metadata": {},
     "output_type": "execute_result"
    }
   ],
   "source": [
    "{\n",
    "  \"s3-dataset-uri\": \"udacity-sagemaker-solutiondata2021/l3e1/reviews_Musical_Instruments_5.json.zip\"\n",
    "}"
   ]
  },
  {
   "cell_type": "markdown",
   "id": "600085e2",
   "metadata": {},
   "source": [
    "## Exercise Solution: Example Lambda Handler"
   ]
  },
  {
   "cell_type": "code",
   "execution_count": 3,
   "id": "010950e0",
   "metadata": {},
   "outputs": [],
   "source": [
    "from HelloBlazePreprocessLambda import preprocess\n",
    "\n",
    "def lambda_handler(event, context):\n",
    "    preprocess(event['s3-dataset-uri'])\n",
    "    return {\n",
    "        'statusCode': 200,\n",
    "        'body': \"Good to go!\"\n",
    "    }"
   ]
  },
  {
   "cell_type": "markdown",
   "id": "7a6a1b0c-c96d-4664-a941-fdfcd698a29c",
   "metadata": {},
   "source": [
    "Ziping files [source](https://thispointer.com/python-how-to-create-a-zip-archive-from-multiple-files-or-directory/) "
   ]
  }
 ],
 "metadata": {
  "instance_type": "ml.t3.medium",
  "kernelspec": {
   "display_name": "Python 3 (Data Science)",
   "language": "python",
   "name": "python3__SAGEMAKER_INTERNAL__arn:aws:sagemaker:us-east-1:081325390199:image/datascience-1.0"
  },
  "language_info": {
   "codemirror_mode": {
    "name": "ipython",
    "version": 3
   },
   "file_extension": ".py",
   "mimetype": "text/x-python",
   "name": "python",
   "nbconvert_exporter": "python",
   "pygments_lexer": "ipython3",
   "version": "3.7.10"
  }
 },
 "nbformat": 4,
 "nbformat_minor": 5
}
